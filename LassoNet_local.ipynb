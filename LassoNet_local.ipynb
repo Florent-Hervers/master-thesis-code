{
 "cells": [
  {
   "cell_type": "code",
   "execution_count": 1,
   "metadata": {},
   "outputs": [],
   "source": [
    "from dataset import SNPmarkersDataset\n",
    "from Regression.LassoNet.lassonet.lassonet.interfaces import LassoNetRegressor\n",
    "from torch.optim import Adam\n",
    "from functools import partial"
   ]
  },
  {
   "cell_type": "code",
   "execution_count": 2,
   "metadata": {},
   "outputs": [
    {
     "name": "stdout",
     "output_type": "stream",
     "text": [
      "Train X shape (1000, 36304)\n",
      "Train Y shape (1000,)\n",
      "Validation X shape (1000, 36304)\n",
      "Validation Y shape (1000,)\n"
     ]
    }
   ],
   "source": [
    "selected_phenotype = \"pheno_1\"\n",
    "\n",
    "train_dataset = SNPmarkersDataset(mode=\"local_train\")\n",
    "train_dataset.set_phenotypes = selected_phenotype\n",
    "train_X = train_dataset.get_all_SNP()\n",
    "train_Y = train_dataset.phenotypes[selected_phenotype]\n",
    "\n",
    "validation_dataset = SNPmarkersDataset(mode=\"validation\")\n",
    "validation_dataset.set_phenotypes = selected_phenotype\n",
    "validation_X = validation_dataset.get_all_SNP()\n",
    "validation_Y = validation_dataset.phenotypes[selected_phenotype]\n",
    "\n",
    "print(f\"Train X shape {train_X.shape}\")\n",
    "print(f\"Train Y shape {train_Y.shape}\")\n",
    "print(f\"Validation X shape {validation_X.shape}\")\n",
    "print(f\"Validation Y shape {validation_Y.shape}\")"
   ]
  },
  {
   "cell_type": "code",
   "execution_count": 4,
   "metadata": {},
   "outputs": [
    {
     "name": "stderr",
     "output_type": "stream",
     "text": [
      "100%|██████████| 50/50 [00:45<00:00,  1.10it/s, loss=2.49]\n",
      "100%|██████████| 50/50 [00:41<00:00,  1.20it/s, loss=1.38]\n",
      "/mnt/c/Users/Session/Documents/Universite/Master 2/Master thesis/Code/Regression/LassoNet/lassonet/lassonet/interfaces.py:492: UserWarning: lambda_start=0.100 (selected automatically) might be too large.\n",
      "Features start to disappear at current_lambda=0.100.\n",
      "  warnings.warn(\n",
      "100%|██████████| 50/50 [00:42<00:00,  1.19it/s, loss=1.74]\n",
      "100%|██████████| 50/50 [00:45<00:00,  1.11it/s, loss=1.64]\n"
     ]
    }
   ],
   "source": [
    "model = LassoNetRegressor(\n",
    "    hidden_dims=(8,),\n",
    "    batch_size= 16,\n",
    "    optim = partial(Adam, lr= 1e-3),\n",
    "    device=\"cpu\",\n",
    "    n_iters=50,\n",
    "    dropout=0.25,\n",
    "    lambda_seq = [0.1,0.5,1.0]\n",
    ")\n",
    "\n",
    "output = model.path(X=train_X, y=train_Y, X_val=validation_X, y_val=validation_Y, return_state_dicts=False)"
   ]
  },
  {
   "cell_type": "code",
   "execution_count": 5,
   "metadata": {},
   "outputs": [
    {
     "name": "stdout",
     "output_type": "stream",
     "text": [
      "HistoryItem(lambda_=0, state_dict=None, objective=2.486091544151306, loss=2.486091544151306, val_objective=4.94760799407959, val_loss=4.94760799407959, regularization=347.63787841796875, l2_regularization=tensor(0.3592), l2_regularization_skip=tensor(2.4958), selected=tensor([True, True, True,  ..., True, True, True]), n_iters=50)\n",
      "HistoryItem(lambda_=0.1, state_dict=None, objective=7.1360890645980835, loss=1.3790227193832394, val_objective=7.5131268262863165, val_loss=1.7560604810714722, regularization=57.57066345214844, l2_regularization=tensor(0.3592), l2_regularization_skip=tensor(1.7929), selected=tensor([True, True, True,  ..., True, True, True]), n_iters=50)\n",
      "HistoryItem(lambda_=0.5, state_dict=None, objective=3.0655933122634886, loss=1.7395059566497801, val_objective=2.9829260110855103, val_loss=1.6568386554718018, regularization=2.652174711227417, l2_regularization=tensor(0.3592), l2_regularization_skip=tensor(0.1321), selected=tensor([ True, False, False,  ..., False, False, False]), n_iters=50)\n",
      "HistoryItem(lambda_=1.0, state_dict=None, objective=1.6447281093597415, loss=1.6447281093597415, val_objective=1.5970250368118286, val_loss=1.5970250368118286, regularization=0.0, l2_regularization=tensor(0.3592), l2_regularization_skip=tensor(0.), selected=tensor([False, False, False,  ..., False, False, False]), n_iters=50)\n"
     ]
    }
   ],
   "source": [
    "for item in output:\n",
    "    print(item)"
   ]
  }
 ],
 "metadata": {
  "kernelspec": {
   "display_name": "TFE",
   "language": "python",
   "name": "python3"
  },
  "language_info": {
   "codemirror_mode": {
    "name": "ipython",
    "version": 3
   },
   "file_extension": ".py",
   "mimetype": "text/x-python",
   "name": "python",
   "nbconvert_exporter": "python",
   "pygments_lexer": "ipython3",
   "version": "3.9.20"
  }
 },
 "nbformat": 4,
 "nbformat_minor": 2
}
