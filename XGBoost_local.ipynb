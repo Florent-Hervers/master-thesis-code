{
 "cells": [
  {
   "cell_type": "code",
   "execution_count": 3,
   "metadata": {},
   "outputs": [],
   "source": [
    "from dataset import SNPmarkersDataset\n",
    "from xgboost import XGBRegressor\n",
    "from scipy.stats import pearsonr\n",
    "import numpy as np\n",
    "from sklearn.metrics import mean_absolute_error, mean_squared_error\n",
    "import time\n",
    "import json\n",
    "import pandas as pd\n",
    "from utils import print_elapsed_time"
   ]
  },
  {
   "cell_type": "code",
   "execution_count": null,
   "metadata": {},
   "outputs": [
    {
     "name": "stdout",
     "output_type": "stream",
     "text": [
      "              ep_res    de_res  FESSEp_res  FESSEa_res\n",
      "id                                                    \n",
      "BBB2024_1   2.340485  1.048687    4.869720    3.754475\n",
      "BBB2024_2  -0.029124  4.097066    1.512663    0.915872\n",
      "BBB2024_3   3.009160  1.033428    3.086161    2.775228\n",
      "BBB2024_4   3.133567  7.720563    4.487325    4.062251\n",
      "BBB2024_5   3.449609  4.448934    5.071065    4.734881\n",
      "BBB2024_6   0.394976 -4.779438    0.166496    0.263310\n",
      "BBB2024_7   2.906651 -1.434209    1.090841    3.148582\n",
      "BBB2024_8   1.517752  0.903852   -0.878456   -0.016035\n",
      "BBB2024_9  -0.086624 -0.349057    1.429496    0.997888\n",
      "BBB2024_10  2.075847  3.703129    2.241961    1.641621\n",
      "              ep_res    de_res  FESSEp_res  FESSEa_res\n",
      "id                                                    \n",
      "BBB2024_1   1.083635  0.263945    2.975387    2.285565\n",
      "BBB2024_2  -0.013484  1.031195    0.924234    0.557544\n",
      "BBB2024_3   1.393229  0.260105    1.885637    1.689441\n",
      "BBB2024_4   1.450829  1.943196    2.741745    2.472926\n",
      "BBB2024_5   1.597155  1.119757    3.098409    2.882394\n",
      "BBB2024_6   0.182872 -1.202941    0.101729    0.160292\n",
      "BBB2024_7   1.345767 -0.360977    0.666501    1.916723\n",
      "BBB2024_8   0.702713  0.227491   -0.536735   -0.009761\n",
      "BBB2024_9  -0.040107 -0.087854    0.873419    0.607472\n",
      "BBB2024_10  0.961109  0.932044    1.369833    0.999349\n"
     ]
    }
   ],
   "source": [
    "selected_phenotypes = [\"ep_res\",\"de_res\",\"FESSEp_res\",\"FESSEa_res\"]\n",
    "\n",
    "train_dataset = SNPmarkersDataset(mode=\"local_train\", skip_check = True)\n",
    "train_dataset.set_phenotypes = selected_phenotypes\n",
    "validation_dataset = SNPmarkersDataset(mode=\"validation\", skip_check = True)\n",
    "validation_dataset.set_phenotypes = selected_phenotypes\n",
    "\n",
    "X_train = train_dataset.get_all_SNP()\n",
    "Y_train_cpu = pd.DataFrame([train_dataset.phenotypes[pheno] for pheno in selected_phenotypes]).transpose()\n",
    "for pheno in Y_train_cpu:\n",
    "    Y_train_cpu[pheno] /= train_dataset.pheno_std[pheno]\n",
    "Y_train_gpu = Y_train_cpu\n",
    "\n",
    "X_validation = validation_dataset.get_all_SNP()\n",
    "Y_validation = pd.DataFrame([validation_dataset.phenotypes[pheno] for pheno in selected_phenotypes]).transpose()\n",
    "\n",
    "for pheno in Y_validation:\n",
    "    Y_validation[pheno] /= validation_dataset.pheno_std[pheno]"
   ]
  },
  {
   "cell_type": "code",
   "execution_count": 7,
   "metadata": {},
   "outputs": [
    {
     "name": "stdout",
     "output_type": "stream",
     "text": [
      "////////////////////////////////////////////\n",
      "Iteration 1/126 finished\n",
      "Hyper parameters tested:\n",
      "    - sub_sampling: 1\n",
      "    - learning_rate: 0.5\n",
      "    - depth: 12\n",
      "Elapsed time from start: 0d 0h 0m 23s\n",
      "Results:\n",
      "    - MAE : [ 4.41364255 18.02678972  2.69455864  2.90826075]\n",
      "    - Correlation : [0.13671239 0.04846106 0.04651116 0.03983687]\n",
      "////////////////////////////////////////////\n",
      "Computation finished in 0h 0m 23s\n"
     ]
    }
   ],
   "source": [
    "sub_sampling = [1, 0.5]\n",
    "learning_rates = [0.5, 0.4, 0.3, 0.2, 0.1, 0.01, 0.001, 0.0005, 0.0001]\n",
    "max_depth = [12, 11, 10, 9, 8, 7, 6]\n",
    "\n",
    "nb_phenotypes = len(selected_phenotypes)\n",
    "MAE_results = np.zeros((nb_phenotypes, len(sub_sampling), len(learning_rates), len(max_depth)))\n",
    "correlation_results = np.zeros((nb_phenotypes, len(sub_sampling), len(learning_rates), len(max_depth)))\n",
    "\n",
    "start_time = time.time()\n",
    "iteration_counter = 0\n",
    "for i,sub_sampling_value in enumerate(sub_sampling):\n",
    "    for j,learning_rates_value in enumerate(learning_rates):\n",
    "        for k,depth in enumerate(max_depth):\n",
    "            model = XGBRegressor(n_estimators=1,\n",
    "                                subsample=sub_sampling_value,\n",
    "                                learning_rate=learning_rates_value,\n",
    "                                max_depth= depth,\n",
    "                                n_jobs = -1,\n",
    "                                random_state=2307, \n",
    "                                device=\"cpu\")\n",
    "            model = model.fit(X_train, Y_train_gpu)\n",
    "            validation_predictions = model.predict(X_validation)\n",
    "\n",
    "            for m in range(nb_phenotypes):\n",
    "                MAE_results[m,i,j,k] = mean_absolute_error(Y_validation.iloc[:, m] * validation_dataset.pheno_std[selected_phenotypes[m]], validation_predictions[:, m] * validation_dataset.pheno_std[selected_phenotypes[m]]) \n",
    "                correlation_results[m,i,j,k] = pearsonr(Y_validation.iloc[:, m], validation_predictions[:, m]).statistic\n",
    "                \n",
    "            iteration_counter += 1\n",
    "            \n",
    "            print(\"////////////////////////////////////////////\")\n",
    "            print(f\"Iteration {iteration_counter}/{len(sub_sampling) * len(learning_rates) * len(max_depth)} finished\")\n",
    "            print(\"Hyper parameters tested:\")\n",
    "            print(f\"    - sub_sampling: {sub_sampling_value}\")\n",
    "            print(f\"    - learning_rate: {learning_rates_value}\")\n",
    "            print(f\"    - depth: {depth}\")\n",
    "            print(f\"Elapsed time from start: {print_elapsed_time(start_time)}\")\n",
    "            print(f\"Results:\")\n",
    "            print(f\"    - MAE : {MAE_results[:,i,j,k]}\")\n",
    "            print(f\"    - Correlation : {correlation_results[:,i,j,k]}\")\n",
    "            break\n",
    "        break\n",
    "    break\n",
    "\n",
    "print(\"////////////////////////////////////////////\")\n",
    "print(f\"Computation finished in {int((time.time() - start_time) // 3600)}h {int(((time.time() - start_time) % 3600) // 60)}m {int((time.time() - start_time) % 60)}s\")\n"
   ]
  },
  {
   "cell_type": "code",
   "execution_count": null,
   "metadata": {},
   "outputs": [],
   "source": [
    "with open(\"tmp.json\", \"w\") as f:\n",
    "    results = {\n",
    "        \"dim_0_values\": Y_validation.columns.to_list(),\n",
    "        \"dim_0_label\": \"phenotypes\",\n",
    "        \"dim_1_values\": sub_sampling,\n",
    "        \"dim_1_label\": \"sub_sampling\",\n",
    "        \"dim_2_values\": learning_rates,\n",
    "        \"dim_2_label\": \"learning_rates\",\n",
    "        \"dim_3_values\": max_depth,\n",
    "        \"dim_3_label\": \"max_depth\",\n",
    "        \"correlation\": correlation_results.tolist(),\n",
    "        \"MAE\": MAE_results.tolist()\n",
    "    }\n",
    "    json.dump(results, f)"
   ]
  }
 ],
 "metadata": {
  "kernelspec": {
   "display_name": "TFE",
   "language": "python",
   "name": "python3"
  },
  "language_info": {
   "codemirror_mode": {
    "name": "ipython",
    "version": 3
   },
   "file_extension": ".py",
   "mimetype": "text/x-python",
   "name": "python",
   "nbconvert_exporter": "python",
   "pygments_lexer": "ipython3",
   "version": "3.9.20"
  }
 },
 "nbformat": 4,
 "nbformat_minor": 2
}
