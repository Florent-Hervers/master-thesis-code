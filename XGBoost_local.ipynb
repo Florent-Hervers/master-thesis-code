{
 "cells": [
  {
   "cell_type": "code",
   "execution_count": 2,
   "metadata": {},
   "outputs": [],
   "source": [
    "from dataset import SNPmarkersDataset\n",
    "from xgboost import XGBRegressor\n",
    "from scipy.stats import pearsonr\n",
    "import numpy as np\n",
    "from sklearn.metrics import mean_absolute_error, mean_squared_error\n",
    "import time\n",
    "import json\n",
    "import pandas as pd"
   ]
  },
  {
   "cell_type": "code",
   "execution_count": 3,
   "metadata": {},
   "outputs": [
    {
     "ename": "KeyboardInterrupt",
     "evalue": "",
     "output_type": "error",
     "traceback": [
      "\u001b[0;31m---------------------------------------------------------------------------\u001b[0m",
      "\u001b[0;31mKeyboardInterrupt\u001b[0m                         Traceback (most recent call last)",
      "Cell \u001b[0;32mIn [3], line 3\u001b[0m\n\u001b[1;32m      1\u001b[0m selected_phenotypes \u001b[38;5;241m=\u001b[39m [\u001b[38;5;124m\"\u001b[39m\u001b[38;5;124mpheno_1\u001b[39m\u001b[38;5;124m\"\u001b[39m, \u001b[38;5;124m\"\u001b[39m\u001b[38;5;124mpheno_2\u001b[39m\u001b[38;5;124m\"\u001b[39m, \u001b[38;5;124m\"\u001b[39m\u001b[38;5;124mpheno_3\u001b[39m\u001b[38;5;124m\"\u001b[39m, \u001b[38;5;124m\"\u001b[39m\u001b[38;5;124mpheno_4\u001b[39m\u001b[38;5;124m\"\u001b[39m]\n\u001b[0;32m----> 3\u001b[0m train_dataset \u001b[38;5;241m=\u001b[39m \u001b[43mSNPmarkersDataset\u001b[49m\u001b[43m(\u001b[49m\u001b[43mmode\u001b[49m\u001b[38;5;241;43m=\u001b[39;49m\u001b[38;5;124;43m\"\u001b[39;49m\u001b[38;5;124;43mlocal_train\u001b[39;49m\u001b[38;5;124;43m\"\u001b[39;49m\u001b[43m)\u001b[49m\n\u001b[1;32m      4\u001b[0m train_dataset\u001b[38;5;241m.\u001b[39mset_phenotypes \u001b[38;5;241m=\u001b[39m selected_phenotypes\n\u001b[1;32m      5\u001b[0m validation_dataset \u001b[38;5;241m=\u001b[39m SNPmarkersDataset(mode\u001b[38;5;241m=\u001b[39m\u001b[38;5;124m\"\u001b[39m\u001b[38;5;124mvalidation\u001b[39m\u001b[38;5;124m\"\u001b[39m)\n",
      "File \u001b[0;32m/mnt/c/Users/Session/Documents/Universite/Master 2/Master thesis/Code/dataset.py:66\u001b[0m, in \u001b[0;36mSNPmarkersDataset.__init__\u001b[0;34m(self, mode, skip_check)\u001b[0m\n\u001b[1;32m     64\u001b[0m \u001b[38;5;28;01mif\u001b[39;00m \u001b[38;5;129;01mnot\u001b[39;00m skip_check:\n\u001b[1;32m     65\u001b[0m     \u001b[38;5;28;01mtry\u001b[39;00m:\n\u001b[0;32m---> 66\u001b[0m         \u001b[38;5;28;43mself\u001b[39;49m\u001b[38;5;241;43m.\u001b[39;49m\u001b[43mcheck_data\u001b[49m\u001b[43m(\u001b[49m\u001b[43m)\u001b[49m\n\u001b[1;32m     67\u001b[0m     \u001b[38;5;28;01mexcept\u001b[39;00m \u001b[38;5;167;01mException\u001b[39;00m \u001b[38;5;28;01mas\u001b[39;00m e:\n\u001b[1;32m     68\u001b[0m         \u001b[38;5;28;01mraise\u001b[39;00m e\n",
      "File \u001b[0;32m/mnt/c/Users/Session/Documents/Universite/Master 2/Master thesis/Code/dataset.py:97\u001b[0m, in \u001b[0;36mSNPmarkersDataset.check_data\u001b[0;34m(self)\u001b[0m\n\u001b[1;32m     90\u001b[0m \u001b[38;5;124;03m\"\"\"Perform some verifications on the data (of the current object) to be sure that no mistake is introduced by the preprocessing of the data.\u001b[39;00m\n\u001b[1;32m     91\u001b[0m \n\u001b[1;32m     92\u001b[0m \u001b[38;5;124;03mRaises:\u001b[39;00m\n\u001b[1;32m     93\u001b[0m \u001b[38;5;124;03m    Exception: If an incoherency is detected, the argument of the error indicate where the error is detected\u001b[39;00m\n\u001b[1;32m     94\u001b[0m \u001b[38;5;124;03m\"\"\"\u001b[39;00m\n\u001b[1;32m     96\u001b[0m \u001b[38;5;66;03m# Check that data is free of missing values\u001b[39;00m\n\u001b[0;32m---> 97\u001b[0m classes, counts \u001b[38;5;241m=\u001b[39m \u001b[43mnp\u001b[49m\u001b[38;5;241;43m.\u001b[39;49m\u001b[43munique\u001b[49m\u001b[43m(\u001b[49m\u001b[38;5;28;43mself\u001b[39;49m\u001b[38;5;241;43m.\u001b[39;49m\u001b[43m_snp\u001b[49m\u001b[43m,\u001b[49m\u001b[43m \u001b[49m\u001b[43mreturn_counts\u001b[49m\u001b[38;5;241;43m=\u001b[39;49m\u001b[38;5;28;43;01mTrue\u001b[39;49;00m\u001b[43m)\u001b[49m\n\u001b[1;32m     98\u001b[0m \u001b[38;5;28;01mif\u001b[39;00m classes\u001b[38;5;241m.\u001b[39mall() \u001b[38;5;241m!=\u001b[39m np\u001b[38;5;241m.\u001b[39marray([\u001b[38;5;241m0\u001b[39m, \u001b[38;5;241m1\u001b[39m, \u001b[38;5;241m2\u001b[39m])\u001b[38;5;241m.\u001b[39mall():\n\u001b[1;32m     99\u001b[0m     \u001b[38;5;28;01mraise\u001b[39;00m \u001b[38;5;167;01mException\u001b[39;00m(\u001b[38;5;124mf\u001b[39m\u001b[38;5;124m\"\u001b[39m\u001b[38;5;124mThere are \u001b[39m\u001b[38;5;132;01m{\u001b[39;00mcounts[np\u001b[38;5;241m.\u001b[39mwhere(classes \u001b[38;5;241m==\u001b[39m \u001b[38;5;241m-\u001b[39m\u001b[38;5;241m127\u001b[39m)[\u001b[38;5;241m0\u001b[39m][\u001b[38;5;241m0\u001b[39m]]\u001b[38;5;132;01m}\u001b[39;00m\u001b[38;5;124m missing values in the data!\u001b[39m\u001b[38;5;124m\"\u001b[39m)\n",
      "File \u001b[0;32m~/miniconda3/envs/TFE/lib/python3.9/site-packages/numpy/lib/arraysetops.py:274\u001b[0m, in \u001b[0;36munique\u001b[0;34m(ar, return_index, return_inverse, return_counts, axis, equal_nan)\u001b[0m\n\u001b[1;32m    272\u001b[0m ar \u001b[38;5;241m=\u001b[39m np\u001b[38;5;241m.\u001b[39masanyarray(ar)\n\u001b[1;32m    273\u001b[0m \u001b[38;5;28;01mif\u001b[39;00m axis \u001b[38;5;129;01mis\u001b[39;00m \u001b[38;5;28;01mNone\u001b[39;00m:\n\u001b[0;32m--> 274\u001b[0m     ret \u001b[38;5;241m=\u001b[39m \u001b[43m_unique1d\u001b[49m\u001b[43m(\u001b[49m\u001b[43mar\u001b[49m\u001b[43m,\u001b[49m\u001b[43m \u001b[49m\u001b[43mreturn_index\u001b[49m\u001b[43m,\u001b[49m\u001b[43m \u001b[49m\u001b[43mreturn_inverse\u001b[49m\u001b[43m,\u001b[49m\u001b[43m \u001b[49m\u001b[43mreturn_counts\u001b[49m\u001b[43m,\u001b[49m\u001b[43m \u001b[49m\n\u001b[1;32m    275\u001b[0m \u001b[43m                    \u001b[49m\u001b[43mequal_nan\u001b[49m\u001b[38;5;241;43m=\u001b[39;49m\u001b[43mequal_nan\u001b[49m\u001b[43m)\u001b[49m\n\u001b[1;32m    276\u001b[0m     \u001b[38;5;28;01mreturn\u001b[39;00m _unpack_tuple(ret)\n\u001b[1;32m    278\u001b[0m \u001b[38;5;66;03m# axis was specified and not None\u001b[39;00m\n",
      "File \u001b[0;32m~/miniconda3/envs/TFE/lib/python3.9/site-packages/numpy/lib/arraysetops.py:328\u001b[0m, in \u001b[0;36m_unique1d\u001b[0;34m(ar, return_index, return_inverse, return_counts, equal_nan)\u001b[0m\n\u001b[1;32m    323\u001b[0m \u001b[38;5;28;01mdef\u001b[39;00m \u001b[38;5;21m_unique1d\u001b[39m(ar, return_index\u001b[38;5;241m=\u001b[39m\u001b[38;5;28;01mFalse\u001b[39;00m, return_inverse\u001b[38;5;241m=\u001b[39m\u001b[38;5;28;01mFalse\u001b[39;00m,\n\u001b[1;32m    324\u001b[0m               return_counts\u001b[38;5;241m=\u001b[39m\u001b[38;5;28;01mFalse\u001b[39;00m, \u001b[38;5;241m*\u001b[39m, equal_nan\u001b[38;5;241m=\u001b[39m\u001b[38;5;28;01mTrue\u001b[39;00m):\n\u001b[1;32m    325\u001b[0m     \u001b[38;5;124;03m\"\"\"\u001b[39;00m\n\u001b[1;32m    326\u001b[0m \u001b[38;5;124;03m    Find the unique elements of an array, ignoring shape.\u001b[39;00m\n\u001b[1;32m    327\u001b[0m \u001b[38;5;124;03m    \"\"\"\u001b[39;00m\n\u001b[0;32m--> 328\u001b[0m     ar \u001b[38;5;241m=\u001b[39m \u001b[43mnp\u001b[49m\u001b[38;5;241;43m.\u001b[39;49m\u001b[43masanyarray\u001b[49m\u001b[43m(\u001b[49m\u001b[43mar\u001b[49m\u001b[43m)\u001b[49m\u001b[38;5;241;43m.\u001b[39;49m\u001b[43mflatten\u001b[49m\u001b[43m(\u001b[49m\u001b[43m)\u001b[49m\n\u001b[1;32m    330\u001b[0m     optional_indices \u001b[38;5;241m=\u001b[39m return_index \u001b[38;5;129;01mor\u001b[39;00m return_inverse\n\u001b[1;32m    332\u001b[0m     \u001b[38;5;28;01mif\u001b[39;00m optional_indices:\n",
      "\u001b[0;31mKeyboardInterrupt\u001b[0m: "
     ]
    }
   ],
   "source": [
    "selected_phenotypes = [\"pheno_1\", \"pheno_2\", \"pheno_3\", \"pheno_4\"]\n",
    "\n",
    "train_dataset = SNPmarkersDataset(mode=\"local_train\")\n",
    "train_dataset.set_phenotypes = selected_phenotypes\n",
    "validation_dataset = SNPmarkersDataset(mode=\"validation\")\n",
    "validation_dataset.set_phenotypes = selected_phenotypes\n",
    "\n",
    "X_train = train_dataset.get_all_SNP()\n",
    "Y_train_cpu = pd.DataFrame([train_dataset.phenotypes[pheno] for pheno in selected_phenotypes]).transpose()\n",
    "Y_train_gpu = Y_train_cpu\n",
    "\n",
    "X_validation = validation_dataset.get_all_SNP()\n",
    "Y_validation = pd.DataFrame([validation_dataset.phenotypes[pheno] for pheno in selected_phenotypes]).transpose()"
   ]
  },
  {
   "cell_type": "code",
   "execution_count": null,
   "metadata": {},
   "outputs": [
    {
     "name": "stdout",
     "output_type": "stream",
     "text": [
      "validation_predictions shape: (1000, 4)\n",
      "validation_predictions[:, 0] shape: (1000,)\n",
      "Y_validation shape: (1000, 4)\n",
      "Y_validation.iloc[:, 0] shape: (1000,)\n",
      "////////////////////////////////////////////\n",
      "Iteration 1/220 finished\n",
      "Hyper parameters tested:\n",
      "    - sub_sampling: 1\n",
      "    - learning_rate: 0.3\n",
      "    - min_sample_split: 1\n",
      "Elapsed time from start: 3m 3s\n",
      "Results:\n",
      "    - MAE : [1.76199363 3.3539532  1.45524071 1.33173396]\n",
      "    - Correlation : [ 0.02297753  0.07105562 -0.03522799  0.0615719 ]\n",
      "////////////////////////////////////////////\n",
      "Computation finished in 0h 3m 3s\n"
     ]
    },
    {
     "data": {
      "text/plain": [
       "'\\nwith open(\"Results/xgboost_all_results.json\", \"w\") as f:\\n    results = {\\n        \"dim_0_values\": Y_validation.columns.to_list(),\\n        \"dim_0_label\": \"phenotypes\",\\n        \"dim_1_values\": sub_sampling,\\n        \"dim_1_label\": \"sub_sampling\",\\n        \"dim_2_values\": learning_rates,\\n        \"dim_2_label\": \"learning_rates\",\\n        \"dim_3_values\": min_sample_split,\\n        \"dim_3_label\": \"min_sample_split\",\\n        \"train_loss\": train_loss.tolist(),\\n        \"validation_loss\": validation_loss.tolist(),\\n        \"correlation\": correlation_results.tolist(),\\n        \"MAE\": MAE_results.tolist()\\n    }\\n    json.dump(results, f)\\n'"
      ]
     },
     "execution_count": 7,
     "metadata": {},
     "output_type": "execute_result"
    }
   ],
   "source": [
    "# For the three first hyper parameters, the first one is the default one.\n",
    "sub_sampling = [1, 0.5]\n",
    "learning_rates = [0.3, 0.05, 0.1, 0.15, 0.2, 0.25, 0.35, 0.4, 0.45, 0.5 ]\n",
    "min_sample_split = [1, 4, 8, 12, 16, 20, 24, 28, 32, 36, 40]\n",
    "n_estimators = np.arange(1,1000,2).tolist()\n",
    "\n",
    "nb_phenotypes = Y_validation.shape[-1]\n",
    "train_loss = np.zeros((nb_phenotypes, len(sub_sampling), len(learning_rates), len(min_sample_split)))\n",
    "validation_loss = np.zeros((nb_phenotypes, len(sub_sampling), len(learning_rates), len(min_sample_split)))\n",
    "MAE_results = np.zeros((nb_phenotypes, len(sub_sampling), len(learning_rates), len(min_sample_split)))\n",
    "correlation_results = np.zeros((nb_phenotypes, len(sub_sampling), len(learning_rates), len(min_sample_split)))\n",
    "\n",
    "start_time = time.time()\n",
    "iteration_counter = 0\n",
    "for i,sub_sampling_value in enumerate(sub_sampling):\n",
    "    for j,learning_rates_value in enumerate(learning_rates):\n",
    "        for k,min_sample_split_value in enumerate(min_sample_split):\n",
    "            #for l, n_estimators_value in enumerate(n_estimators):\n",
    "                model = XGBRegressor(\n",
    "                                    subsample=sub_sampling_value,\n",
    "                                    learning_rate=learning_rates_value,\n",
    "                                    min_child_weight=min_sample_split_value,\n",
    "                                    n_jobs = -1,\n",
    "                                    random_state=2307, \n",
    "                                    device=\"cpu\")\n",
    "                model = model.fit(X_train, Y_train_gpu)\n",
    "                train_predictions = model.predict(X_train)\n",
    "                validation_predictions = model.predict(X_validation)\n",
    "\n",
    "                print(f\"validation_predictions shape: {validation_predictions.shape}\")\n",
    "                print(f\"validation_predictions[:, 0] shape: {validation_predictions[:, 0].shape}\")\n",
    "                print(f\"Y_validation shape: {Y_validation.shape}\")\n",
    "                print(f\"Y_validation.iloc[:, 0] shape: {Y_validation.iloc[:, 0].shape}\")\n",
    "                \n",
    "                for m in range(nb_phenotypes):\n",
    "                    train_loss[m,i,j,k] = mean_squared_error(Y_train_cpu.iloc[:, m], train_predictions[:, m])\n",
    "                    validation_loss[m,i,j,k] = mean_squared_error(Y_validation.iloc[:, m], validation_predictions[:, m])\n",
    "                    MAE_results[m,i,j,k] = mean_absolute_error(Y_validation.iloc[:, m], validation_predictions[:, m])\n",
    "                    correlation_results[m,i,j,k] = pearsonr(Y_validation.iloc[:, m], validation_predictions[:, m]).statistic\n",
    "                    \n",
    "                iteration_counter += 1\n",
    "                \n",
    "                print(\"////////////////////////////////////////////\")\n",
    "                print(f\"Iteration {iteration_counter}/{len(sub_sampling) * len(learning_rates) * len(min_sample_split)} finished\")\n",
    "                print(\"Hyper parameters tested:\")\n",
    "                print(f\"    - sub_sampling: {sub_sampling_value}\")\n",
    "                print(f\"    - learning_rate: {learning_rates_value}\")\n",
    "                print(f\"    - min_sample_split: {min_sample_split_value}\")\n",
    "                print(f\"Elapsed time from start: {int((time.time() - start_time) // 60)}m {int((time.time() - start_time) % 60)}s\")\n",
    "                print(f\"Results:\")\n",
    "                print(f\"    - MAE : {MAE_results[:,i,j,k]}\")\n",
    "                print(f\"    - Correlation : {correlation_results[:,i,j,k]}\")\n",
    "                break\n",
    "        break\n",
    "    break\n",
    "\n",
    "print(\"////////////////////////////////////////////\")\n",
    "print(f\"Computation finished in {int((time.time() - start_time) // 3600)}h {int(((time.time() - start_time) % 3600) // 60)}m {int((time.time() - start_time) % 60)}s\")\n",
    "\n",
    "\"\"\"\n",
    "with open(\"Results/xgboost_all_results.json\", \"w\") as f:\n",
    "    results = {\n",
    "        \"dim_0_values\": Y_validation.columns.to_list(),\n",
    "        \"dim_0_label\": \"phenotypes\",\n",
    "        \"dim_1_values\": sub_sampling,\n",
    "        \"dim_1_label\": \"sub_sampling\",\n",
    "        \"dim_2_values\": learning_rates,\n",
    "        \"dim_2_label\": \"learning_rates\",\n",
    "        \"dim_3_values\": min_sample_split,\n",
    "        \"dim_3_label\": \"min_sample_split\",\n",
    "        \"train_loss\": train_loss.tolist(),\n",
    "        \"validation_loss\": validation_loss.tolist(),\n",
    "        \"correlation\": correlation_results.tolist(),\n",
    "        \"MAE\": MAE_results.tolist()\n",
    "    }\n",
    "    json.dump(results, f)\n",
    "\"\"\""
   ]
  }
 ],
 "metadata": {
  "kernelspec": {
   "display_name": "TFE",
   "language": "python",
   "name": "python3"
  },
  "language_info": {
   "codemirror_mode": {
    "name": "ipython",
    "version": 3
   },
   "file_extension": ".py",
   "mimetype": "text/x-python",
   "name": "python",
   "nbconvert_exporter": "python",
   "pygments_lexer": "ipython3",
   "version": "3.9.20"
  }
 },
 "nbformat": 4,
 "nbformat_minor": 2
}
