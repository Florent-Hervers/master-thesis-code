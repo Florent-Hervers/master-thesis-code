{
 "cells": [
  {
   "cell_type": "code",
   "execution_count": 1,
   "metadata": {},
   "outputs": [],
   "source": [
    "from dataset import SNPmarkersDataset\n",
    "from xgboost import XGBRegressor\n",
    "from scipy.stats import pearsonr\n",
    "import numpy as np\n",
    "from sklearn.metrics import mean_absolute_error, mean_squared_error\n",
    "import time\n",
    "import json\n",
    "import pandas as pd"
   ]
  },
  {
   "cell_type": "code",
   "execution_count": 2,
   "metadata": {},
   "outputs": [],
   "source": [
    "selected_phenotypes = [\"ep_res\",\"de_res\",\"FESSEp_res\",\"FESSEa_res\"]\n",
    "\n",
    "train_dataset = SNPmarkersDataset(mode=\"local_train\")\n",
    "train_dataset.set_phenotypes = selected_phenotypes\n",
    "validation_dataset = SNPmarkersDataset(mode=\"validation\")\n",
    "validation_dataset.set_phenotypes = selected_phenotypes\n",
    "\n",
    "X_train = train_dataset.get_all_SNP()\n",
    "Y_train_cpu = pd.DataFrame([train_dataset.phenotypes[pheno] for pheno in selected_phenotypes]).transpose()\n",
    "Y_train_gpu = Y_train_cpu\n",
    "\n",
    "X_validation = validation_dataset.get_all_SNP()\n",
    "Y_validation = pd.DataFrame([validation_dataset.phenotypes[pheno] for pheno in selected_phenotypes]).transpose()"
   ]
  },
  {
   "cell_type": "code",
   "execution_count": null,
   "metadata": {},
   "outputs": [
    {
     "name": "stdout",
     "output_type": "stream",
     "text": [
      "////////////////////////////////////////////\n",
      "Iteration 1/126 finished\n",
      "Hyper parameters tested:\n",
      "    - sub_sampling: 1\n",
      "    - learning_rate: 0.5\n",
      "    - depth: 12\n",
      "Elapsed time from start: 4m 17s\n",
      "Results:\n",
      "    - MAE : [1.55523461 3.22876916 1.28514196 1.37045504]\n",
      "    - Correlation : [0.1803991  0.16892071 0.07338055 0.0811551 ]\n",
      "////////////////////////////////////////////\n",
      "Computation finished in 0h 4m 17s\n"
     ]
    }
   ],
   "source": [
    "sub_sampling = [1, 0.5]\n",
    "learning_rates = [0.5, 0.4, 0.3, 0.2, 0.1, 0.01, 0.001, 0.0005, 0.0001]\n",
    "max_depth = [12, 11, 10, 9, 8, 7, 6]\n",
    "\n",
    "nb_phenotypes = Y_validation.shape[-1]\n",
    "MAE_results = np.zeros((nb_phenotypes, len(sub_sampling), len(learning_rates), len(max_depth)))\n",
    "correlation_results = np.zeros((nb_phenotypes, len(sub_sampling), len(learning_rates), len(max_depth)))\n",
    "\n",
    "start_time = time.time()\n",
    "iteration_counter = 0\n",
    "for i,sub_sampling_value in enumerate(sub_sampling):\n",
    "    for j,learning_rates_value in enumerate(learning_rates):\n",
    "        for k,depth in enumerate(max_depth):\n",
    "            model = XGBRegressor(n_estimators=1000,\n",
    "                                subsample=sub_sampling_value,\n",
    "                                learning_rate=learning_rates_value,\n",
    "                                max_depth= depth,\n",
    "                                n_jobs = -1,\n",
    "                                random_state=2307, \n",
    "                                device=\"cpu\")\n",
    "            model = model.fit(X_train, Y_train_gpu)\n",
    "            train_predictions = model.predict(X_train)\n",
    "            validation_predictions = model.predict(X_validation)\n",
    "            \n",
    "            for m in range(nb_phenotypes):\n",
    "                MAE_results[m,i,j,k] = mean_absolute_error(Y_validation.iloc[:, m], validation_predictions[:, m])\n",
    "                correlation_results[m,i,j,k] = pearsonr(Y_validation.iloc[:, m], validation_predictions[:, m]).statistic\n",
    "                \n",
    "            iteration_counter += 1\n",
    "            \n",
    "            print(\"////////////////////////////////////////////\")\n",
    "            print(f\"Iteration {iteration_counter}/{len(sub_sampling) * len(learning_rates) * len(max_depth)} finished\")\n",
    "            print(\"Hyper parameters tested:\")\n",
    "            print(f\"    - sub_sampling: {sub_sampling_value}\")\n",
    "            print(f\"    - learning_rate: {learning_rates_value}\")\n",
    "            print(f\"    - depth: {depth}\")\n",
    "            print(f\"Elapsed time from start: {int((time.time() - start_time) // 60)}m {int((time.time() - start_time) % 60)}s\")\n",
    "            print(f\"Results:\")\n",
    "            print(f\"    - MAE : {MAE_results[:,i,j,k]}\")\n",
    "            print(f\"    - Correlation : {correlation_results[:,i,j,k]}\")\n",
    "            break\n",
    "        break\n",
    "    break\n",
    "\n",
    "print(\"////////////////////////////////////////////\")\n",
    "print(f\"Computation finished in {int((time.time() - start_time) // 3600)}h {int(((time.time() - start_time) % 3600) // 60)}m {int((time.time() - start_time) % 60)}s\")\n",
    "\n",
    "with open(\"tmp.json\", \"w\") as f:\n",
    "    results = {\n",
    "        \"dim_0_values\": Y_validation.columns.to_list(),\n",
    "        \"dim_0_label\": \"phenotypes\",\n",
    "        \"dim_1_values\": sub_sampling,\n",
    "        \"dim_1_label\": \"sub_sampling\",\n",
    "        \"dim_2_values\": learning_rates,\n",
    "        \"dim_2_label\": \"learning_rates\",\n",
    "        \"dim_3_values\": max_depth,\n",
    "        \"dim_3_label\": \"max_depth\",\n",
    "        \"correlation\": correlation_results.tolist(),\n",
    "        \"MAE\": MAE_results.tolist()\n",
    "    }\n",
    "    json.dump(results, f)"
   ]
  }
 ],
 "metadata": {
  "kernelspec": {
   "display_name": "TFE",
   "language": "python",
   "name": "python3"
  },
  "language_info": {
   "codemirror_mode": {
    "name": "ipython",
    "version": 3
   },
   "file_extension": ".py",
   "mimetype": "text/x-python",
   "name": "python",
   "nbconvert_exporter": "python",
   "pygments_lexer": "ipython3",
   "version": "3.9.20"
  }
 },
 "nbformat": 4,
 "nbformat_minor": 2
}
