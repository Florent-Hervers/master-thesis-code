{
 "cells": [
  {
   "cell_type": "code",
   "execution_count": 1,
   "metadata": {},
   "outputs": [],
   "source": [
    "from dataset import SNPmarkersDataset\n",
    "from sklearn.ensemble import RandomForestRegressor\n",
    "from scipy.stats import pearsonr\n",
    "import numpy as np\n",
    "from sklearn.metrics import mean_absolute_error\n",
    "import time\n",
    "import pandas as pd"
   ]
  },
  {
   "cell_type": "code",
   "execution_count": 2,
   "metadata": {},
   "outputs": [],
   "source": [
    "train_dataset = SNPmarkersDataset(mode=\"local_train\", skip_check= True)\n",
    "validation_dataset = SNPmarkersDataset(mode=\"validation\", skip_check= True)\n",
    "phenotypes = list(train_dataset.phenotypes.keys())\n",
    "\n",
    "train_dataset.set_phenotypes = phenotypes[0]\n",
    "X_train = train_dataset.get_all_SNP()"
   ]
  },
  {
   "cell_type": "code",
   "execution_count": null,
   "metadata": {},
   "outputs": [
    {
     "name": "stdout",
     "output_type": "stream",
     "text": [
      "['ep_res', 'de_res', 'FESSEp_res', 'FESSEa_res', 'size_res', 'MUSC_res']\n"
     ]
    }
   ],
   "source": [
    "max_depth = [15]\n",
    "max_features = [int(np.sqrt(X_train.shape[-1])), 0.005]\n",
    "MAE_results = np.zeros((len(max_depth), len(max_features)))\n",
    "correlation_results = np.zeros((len(max_depth), len(max_features)))  "
   ]
  },
  {
   "cell_type": "code",
   "execution_count": 16,
   "metadata": {},
   "outputs": [
    {
     "name": "stdout",
     "output_type": "stream",
     "text": [
      "(1000, 36304)\n",
      "(1000,)\n",
      "(1000, 36304)\n",
      "(1000,)\n",
      "////////////////////////////////////////////\n",
      "Iteration 1/2\n",
      "Max depth value tested: 15, max nb of features used per tree: 190\n",
      "--------------------------------------------\n",
      "Pearson correlation for ep_res: 0.08903\n",
      "MAE results for ep_res: 1.64074\n",
      "////////////////////////////////////////////\n",
      "Iteration 2/2\n",
      "Max depth value tested: 15, max nb of features used per tree: 181\n",
      "--------------------------------------------\n",
      "Pearson correlation for ep_res: 0.06674\n",
      "MAE results for ep_res: 1.62724\n"
     ]
    }
   ],
   "source": [
    "for phenotype in phenotypes:\n",
    "    train_dataset.set_phenotypes = phenotype\n",
    "    validation_dataset.set_phenotypes = phenotype\n",
    "\n",
    "    X_train = train_dataset.get_all_SNP()\n",
    "    Y_train = np.array(train_dataset.phenotypes[phenotype]).ravel()\n",
    "    \n",
    "    X_validation = validation_dataset.get_all_SNP()\n",
    "    Y_validation = np.array(validation_dataset.phenotypes[phenotype]).ravel()\n",
    "\n",
    "    print(X_train.shape)\n",
    "    print(Y_train.shape)\n",
    "    print(X_validation.shape)\n",
    "    print(Y_validation.shape)\n",
    "    \n",
    "    for i,max_depth_value in enumerate(max_depth):\n",
    "        for j, max_feature in enumerate(max_features):\n",
    "            model = RandomForestRegressor(n_estimators=4, max_depth=max_depth_value, max_features=max_feature, random_state=2307, n_jobs=-1).fit(X_train, Y_train)\n",
    "            predictions = model.predict(X_validation)\n",
    "            print(\"////////////////////////////////////////////\")\n",
    "            print(f\"Iteration {i * len(max_features) + (j+1)}/{len(max_features) * len(max_depth)}\")\n",
    "            if type(max_feature) == int:\n",
    "                max_nb_of_tree = max_feature\n",
    "            elif type(max_feature) == float:\n",
    "                max_nb_of_tree = int(max_feature*X_train.shape[-1])\n",
    "            print(f\"Max depth value tested: {max_depth_value}, max nb of features used per tree: {max_nb_of_tree}\")\n",
    "\n",
    "            MAE_results[i][j] = mean_absolute_error(Y_validation, predictions)\n",
    "            correlation_results[i][j] = pearsonr(Y_validation, predictions).statistic\n",
    "            print(\"--------------------------------------------\")\n",
    "            print(f\"Pearson correlation for {phenotype}: {correlation_results[i][j]:.5f}\")\n",
    "            print(f\"MAE results for {phenotype}: {MAE_results[i][j]:.5f}\")\n"
   ]
  },
  {
   "cell_type": "code",
   "execution_count": null,
   "metadata": {},
   "outputs": [],
   "source": [
    "pd.DataFrame(MAE_results, \n",
    "                    index=[f\"max_depth = {i}\" for i in max_depth], \n",
    "                    columns=[f\"max_features = {i}\" for i in max_features]\n",
    "                    )"
   ]
  },
  {
   "cell_type": "code",
   "execution_count": null,
   "metadata": {},
   "outputs": [],
   "source": [
    "pd.DataFrame(correlation_results, \n",
    "                    index=[f\"max_depth = {i}\" for i in max_depth], \n",
    "                    columns=[f\"max_features = {i}\" for i in max_features]\n",
    "                    )"
   ]
  }
 ],
 "metadata": {
  "kernelspec": {
   "display_name": "TFE",
   "language": "python",
   "name": "python3"
  },
  "language_info": {
   "codemirror_mode": {
    "name": "ipython",
    "version": 3
   },
   "file_extension": ".py",
   "mimetype": "text/x-python",
   "name": "python",
   "nbconvert_exporter": "python",
   "pygments_lexer": "ipython3",
   "version": "3.9.20"
  }
 },
 "nbformat": 4,
 "nbformat_minor": 2
}
