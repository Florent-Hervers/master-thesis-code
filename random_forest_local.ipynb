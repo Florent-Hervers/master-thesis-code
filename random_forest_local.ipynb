{
 "cells": [
  {
   "cell_type": "code",
   "execution_count": 1,
   "metadata": {},
   "outputs": [],
   "source": [
    "from dataset import SNPmarkersDataset\n",
    "from sklearn.ensemble import RandomForestRegressor\n",
    "from scipy.stats import pearsonr\n",
    "import numpy as np\n",
    "from sklearn.metrics import mean_absolute_error\n",
    "import time\n",
    "import pandas as pd"
   ]
  },
  {
   "cell_type": "code",
   "execution_count": 2,
   "metadata": {},
   "outputs": [],
   "source": [
    "train_dataset = SNPmarkersDataset(mode=\"local_train\", skip_check= True)\n",
    "validation_dataset = SNPmarkersDataset(mode=\"validation\", skip_check= True)\n",
    "phenotypes = list(train_dataset.phenotypes.keys())\n",
    "\n",
    "train_dataset.set_phenotypes = phenotypes[0]\n",
    "X_train = train_dataset.get_all_SNP()"
   ]
  },
  {
   "cell_type": "code",
   "execution_count": 3,
   "metadata": {},
   "outputs": [],
   "source": [
    "max_depth = [15]\n",
    "max_features = [int(np.sqrt(X_train.shape[-1])), 0.005]\n",
    "MAE_results = np.zeros((len(max_depth), len(max_features)))\n",
    "correlation_results = np.zeros((len(max_depth), len(max_features)))  "
   ]
  },
  {
   "cell_type": "code",
   "execution_count": 9,
   "metadata": {},
   "outputs": [
    {
     "name": "stdout",
     "output_type": "stream",
     "text": [
      "[ 2.340485 -0.029124  3.00916   3.133567  3.449609]\n",
      "[ 1.08363485 -0.01348429  1.3932286   1.45082853  1.59715467]\n"
     ]
    }
   ],
   "source": [
    "print(np.array(train_dataset.phenotypes[\"ep_res\"]).ravel()[0:5])\n",
    "print((np.array(train_dataset.phenotypes[\"ep_res\"]).ravel()/ train_dataset.pheno_std[phenotype])[0:5])"
   ]
  },
  {
   "cell_type": "code",
   "execution_count": 7,
   "metadata": {},
   "outputs": [
    {
     "name": "stdout",
     "output_type": "stream",
     "text": [
      "(1000, 36304)\n",
      "(1000,)\n",
      "(1000, 36304)\n",
      "(1000,)\n",
      "////////////////////////////////////////////\n",
      "Iteration 1/8\n",
      "Max depth value tested: 15, max nb of features used per tree: 190\n",
      "--------------------------------------------\n",
      "Pearson correlation for ep_res: 0.07183\n",
      "MAE results for ep_res: 2.36750\n",
      "////////////////////////////////////////////\n",
      "Iteration 2/8\n",
      "Max depth value tested: 15, max nb of features used per tree: 181\n",
      "--------------------------------------------\n",
      "Pearson correlation for ep_res: 0.12907\n",
      "MAE results for ep_res: 2.40059\n",
      "////////////////////////////////////////////\n",
      "Iteration 3/8\n",
      "Max depth value tested: 15, max nb of features used per tree: 190\n"
     ]
    },
    {
     "ename": "IndexError",
     "evalue": "index 1 is out of bounds for axis 0 with size 1",
     "output_type": "error",
     "traceback": [
      "\u001b[0;31m---------------------------------------------------------------------------\u001b[0m",
      "\u001b[0;31mIndexError\u001b[0m                                Traceback (most recent call last)",
      "Cell \u001b[0;32mIn [7], line 28\u001b[0m\n\u001b[1;32m     25\u001b[0m     max_nb_of_tree \u001b[38;5;241m=\u001b[39m \u001b[38;5;28mint\u001b[39m(max_feature\u001b[38;5;241m*\u001b[39mX_train\u001b[38;5;241m.\u001b[39mshape[\u001b[38;5;241m-\u001b[39m\u001b[38;5;241m1\u001b[39m])\n\u001b[1;32m     26\u001b[0m \u001b[38;5;28mprint\u001b[39m(\u001b[38;5;124mf\u001b[39m\u001b[38;5;124m\"\u001b[39m\u001b[38;5;124mMax depth value tested: \u001b[39m\u001b[38;5;132;01m{\u001b[39;00mmax_depth_value\u001b[38;5;132;01m}\u001b[39;00m\u001b[38;5;124m, max nb of features used per tree: \u001b[39m\u001b[38;5;132;01m{\u001b[39;00mmax_nb_of_tree\u001b[38;5;132;01m}\u001b[39;00m\u001b[38;5;124m\"\u001b[39m)\n\u001b[0;32m---> 28\u001b[0m \u001b[43mMAE_results\u001b[49m\u001b[43m[\u001b[49m\u001b[43mi\u001b[49m\u001b[43m]\u001b[49m[j] \u001b[38;5;241m=\u001b[39m mean_absolute_error(Y_validation, predictions)\n\u001b[1;32m     29\u001b[0m correlation_results[i][j] \u001b[38;5;241m=\u001b[39m pearsonr(Y_validation, predictions)\u001b[38;5;241m.\u001b[39mstatistic\n\u001b[1;32m     30\u001b[0m \u001b[38;5;28mprint\u001b[39m(\u001b[38;5;124m\"\u001b[39m\u001b[38;5;124m--------------------------------------------\u001b[39m\u001b[38;5;124m\"\u001b[39m)\n",
      "\u001b[0;31mIndexError\u001b[0m: index 1 is out of bounds for axis 0 with size 1"
     ]
    }
   ],
   "source": [
    "for phenotype in phenotypes:\n",
    "    train_dataset.set_phenotypes = phenotype\n",
    "    validation_dataset.set_phenotypes = phenotype\n",
    "\n",
    "    X_train = train_dataset.get_all_SNP()\n",
    "    Y_train = np.array(train_dataset.phenotypes[phenotype]).ravel() / train_dataset.pheno_std[phenotype]\n",
    "    \n",
    "    X_validation = validation_dataset.get_all_SNP()\n",
    "    Y_validation = np.array(validation_dataset.phenotypes[phenotype]).ravel()\n",
    "\n",
    "    print(X_train.shape)\n",
    "    print(Y_train.shape)\n",
    "    print(X_validation.shape)\n",
    "    print(Y_validation.shape)\n",
    "    \n",
    "    for i,max_depth_value in enumerate(max_depth):\n",
    "        for j, max_feature in enumerate(max_features):\n",
    "            model = RandomForestRegressor(n_estimators=4, max_depth=max_depth_value, max_features=max_feature, random_state=2307, n_jobs=-1).fit(X_train, Y_train)\n",
    "            predictions = model.predict(X_validation)\n",
    "            print(\"////////////////////////////////////////////\")\n",
    "            print(f\"Iteration {i * len(max_features) + (j+1)}/{len(max_features) * len(max_depth)}\")\n",
    "            if type(max_feature) == int:\n",
    "                max_nb_of_tree = max_feature\n",
    "            elif type(max_feature) == float:\n",
    "                max_nb_of_tree = int(max_feature*X_train.shape[-1])\n",
    "            print(f\"Max depth value tested: {max_depth_value}, max nb of features used per tree: {max_nb_of_tree}\")\n",
    "\n",
    "            MAE_results[i][j] = mean_absolute_error(Y_validation, predictions)\n",
    "            correlation_results[i][j] = pearsonr(Y_validation, predictions).statistic\n",
    "            print(\"--------------------------------------------\")\n",
    "            print(f\"Pearson correlation for {phenotype}: {correlation_results[i][j]:.5f}\")\n",
    "            print(f\"MAE results for {phenotype}: {MAE_results[i][j]:.5f}\")\n"
   ]
  },
  {
   "cell_type": "code",
   "execution_count": null,
   "metadata": {},
   "outputs": [
    {
     "data": {
      "text/plain": [
       "[15, 15, 15, 15]"
      ]
     },
     "execution_count": 6,
     "metadata": {},
     "output_type": "execute_result"
    }
   ],
   "source": [
    "max_depth = list()\n",
    "avg_depth = []\n",
    "for tree in model.estimators_:\n",
    "    max_depth.append(tree.tree_.max_depth)\n",
    "\n",
    "max_depth"
   ]
  },
  {
   "cell_type": "code",
   "execution_count": null,
   "metadata": {},
   "outputs": [],
   "source": [
    "pd.DataFrame(MAE_results, \n",
    "                    index=[f\"max_depth = {i}\" for i in max_depth], \n",
    "                    columns=[f\"max_features = {i}\" for i in max_features]\n",
    "                    )"
   ]
  },
  {
   "cell_type": "code",
   "execution_count": null,
   "metadata": {},
   "outputs": [],
   "source": [
    "pd.DataFrame(correlation_results, \n",
    "                    index=[f\"max_depth = {i}\" for i in max_depth], \n",
    "                    columns=[f\"max_features = {i}\" for i in max_features]\n",
    "                    )"
   ]
  }
 ],
 "metadata": {
  "kernelspec": {
   "display_name": "TFE",
   "language": "python",
   "name": "python3"
  },
  "language_info": {
   "codemirror_mode": {
    "name": "ipython",
    "version": 3
   },
   "file_extension": ".py",
   "mimetype": "text/x-python",
   "name": "python",
   "nbconvert_exporter": "python",
   "pygments_lexer": "ipython3",
   "version": "3.9.20"
  }
 },
 "nbformat": 4,
 "nbformat_minor": 2
}
