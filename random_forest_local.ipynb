{
 "cells": [
  {
   "cell_type": "code",
   "execution_count": 1,
   "metadata": {},
   "outputs": [],
   "source": [
    "from dataset import SNPmarkersDataset\n",
    "from sklearn.ensemble import RandomForestRegressor\n",
    "from scipy.stats import pearsonr\n",
    "import numpy as np\n",
    "from sklearn.metrics import mean_absolute_error\n",
    "import time\n",
    "import pandas as pd"
   ]
  },
  {
   "cell_type": "code",
   "execution_count": 2,
   "metadata": {},
   "outputs": [],
   "source": [
    "selected_phenotypes = [\"ep_res\",\"de_res\",\"FESSEp_res\",\"FESSEa_res\"]\n",
    "\n",
    "train_dataset = SNPmarkersDataset(mode=\"local_train\")\n",
    "train_dataset.set_phenotypes = selected_phenotypes\n",
    "validation_dataset = SNPmarkersDataset(mode=\"validation\")\n",
    "validation_dataset.set_phenotypes = selected_phenotypes\n",
    "\n",
    "X_train = train_dataset.get_all_SNP()\n",
    "Y_train = pd.DataFrame([train_dataset.phenotypes[pheno] for pheno in selected_phenotypes]).transpose()\n",
    "\n",
    "X_validation = validation_dataset.get_all_SNP()\n",
    "Y_validation = pd.DataFrame([validation_dataset.phenotypes[pheno] for pheno in selected_phenotypes]).transpose()"
   ]
  },
  {
   "cell_type": "code",
   "execution_count": 5,
   "metadata": {},
   "outputs": [],
   "source": [
    "max_depth = [15]\n",
    "max_features = [int(np.sqrt(X_train.shape[-1])), 0.005]\n",
    "nb_phenotypes = len(selected_phenotypes)\n",
    "MAE_results = np.zeros((nb_phenotypes, len(max_depth), len(max_features)))\n",
    "correlation_results = np.zeros((nb_phenotypes, len(max_depth), len(max_features)))  "
   ]
  },
  {
   "cell_type": "code",
   "execution_count": 7,
   "metadata": {},
   "outputs": [
    {
     "name": "stdout",
     "output_type": "stream",
     "text": [
      "////////////////////////////////////////////\n",
      "Iteration 1/2\n",
      "Max depth value tested: 15, max nb of features used per tree: 190\n",
      "--------------------------------------------\n",
      "Pearson correlation for ep_res: 0.08271\n",
      "MAE results for ep_res: 1.61798\n",
      "--------------------------------------------\n",
      "Pearson correlation for de_res: 0.06519\n",
      "MAE results for de_res: 3.27636\n",
      "--------------------------------------------\n",
      "Pearson correlation for FESSEp_res: 0.07817\n",
      "MAE results for FESSEp_res: 1.25472\n",
      "--------------------------------------------\n",
      "Pearson correlation for FESSEa_res: 0.06520\n",
      "MAE results for FESSEa_res: 1.35821\n",
      "////////////////////////////////////////////\n",
      "Iteration 2/2\n",
      "Max depth value tested: 15, max nb of features used per tree: 181\n",
      "--------------------------------------------\n",
      "Pearson correlation for ep_res: 0.05823\n",
      "MAE results for ep_res: 1.67724\n",
      "--------------------------------------------\n",
      "Pearson correlation for de_res: 0.03112\n",
      "MAE results for de_res: 3.33628\n",
      "--------------------------------------------\n",
      "Pearson correlation for FESSEp_res: 0.03575\n",
      "MAE results for FESSEp_res: 1.30644\n",
      "--------------------------------------------\n",
      "Pearson correlation for FESSEa_res: 0.06311\n",
      "MAE results for FESSEa_res: 1.36122\n"
     ]
    }
   ],
   "source": [
    "for i,max_depth_value in enumerate(max_depth):\n",
    "    for j, max_feature in enumerate(max_features):\n",
    "        model = RandomForestRegressor(n_estimators=4, max_depth=max_depth_value, max_features=max_feature, random_state=2307, n_jobs=-1).fit(X_train, Y_train)\n",
    "        predictions = model.predict(X_validation)\n",
    "        print(\"////////////////////////////////////////////\")\n",
    "        print(f\"Iteration {i * len(max_features) + (j+1)}/{len(max_features) * len(max_depth)}\")\n",
    "        if type(max_feature) == int:\n",
    "            max_nb_of_tree = max_feature\n",
    "        elif type(max_feature) == float:\n",
    "            max_nb_of_tree = int(max_feature*X_train.shape[-1])\n",
    "        print(f\"Max depth value tested: {max_depth_value}, max nb of features used per tree: {max_nb_of_tree}\")\n",
    "\n",
    "        for k in range(nb_phenotypes):\n",
    "            MAE_results[k][i][j] = mean_absolute_error(Y_validation.iloc[:, k], predictions[:, k])\n",
    "            correlation_results[k][i][j] = pearsonr(Y_validation.iloc[:, k], predictions[:, k]).statistic\n",
    "            print(\"--------------------------------------------\")\n",
    "            print(f\"Pearson correlation for {selected_phenotypes[k]}: {correlation_results[k][i][j]:.5f}\")\n",
    "            print(f\"MAE results for {selected_phenotypes[k]}: {MAE_results[k][i][j]:.5f}\")\n"
   ]
  }
 ],
 "metadata": {
  "kernelspec": {
   "display_name": "TFE",
   "language": "python",
   "name": "python3"
  },
  "language_info": {
   "codemirror_mode": {
    "name": "ipython",
    "version": 3
   },
   "file_extension": ".py",
   "mimetype": "text/x-python",
   "name": "python",
   "nbconvert_exporter": "python",
   "pygments_lexer": "ipython3",
   "version": "3.9.20"
  }
 },
 "nbformat": 4,
 "nbformat_minor": 2
}
