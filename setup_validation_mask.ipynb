{
 "cells": [
  {
   "cell_type": "code",
   "execution_count": 40,
   "metadata": {},
   "outputs": [],
   "source": [
    "import pandas as pd\n",
    "import numpy as np"
   ]
  },
  {
   "cell_type": "code",
   "execution_count": null,
   "metadata": {},
   "outputs": [
    {
     "name": "stdout",
     "output_type": "stream",
     "text": [
      "Show resulting dataframe to check the results (only pheno 1 to 4 before BBB2024_11330 should be not nan):\n",
      "               col_1   pheno_1   pheno_2   pheno_3   pheno_4  pheno_5  pheno_6\n",
      "id                                                                            \n",
      "BBB2024_13326      0  4.949771  8.645862  3.961304  5.324712      NaN      NaN\n",
      "BBB2024_13327      0  3.154037  3.168442  1.582449  2.460774      NaN      NaN\n",
      "BBB2024_13328      0  3.605611  7.269402  2.475571  2.634890      NaN      NaN\n",
      "BBB2024_13329      0  2.605611  8.269402  0.475571  1.634890      NaN      NaN\n",
      "BBB2024_13330      0  4.751016  9.665300  3.600370  3.922184      NaN      NaN\n",
      "BBB2024_13331      0       NaN       NaN       NaN       NaN      NaN      NaN\n",
      "BBB2024_13332      0       NaN       NaN       NaN       NaN      NaN      NaN\n",
      "BBB2024_13333      0       NaN       NaN       NaN       NaN      NaN      NaN\n",
      "BBB2024_13334      0       NaN       NaN       NaN       NaN      NaN      NaN\n",
      "BBB2024_13335      0       NaN       NaN       NaN       NaN      NaN      NaN\n"
     ]
    }
   ],
   "source": [
    "df = pd.read_csv(\"../Data/BBBDL_pheno_2023bbb_0twins_6traits_mask_processed.csv\", index_col = 1)\n",
    "\n",
    "for pheno in df.drop(\"col_1\", axis = 1).columns:\n",
    "    index = df[pheno].dropna().tail(1000).index\n",
    "    for i, _ in df.iterrows():\n",
    "        if i in index:\n",
    "            df.loc[i, pheno] = np.nan\n",
    "print(\"Show resulting dataframe to check the results (only pheno 1 to 4 before BBB2024_11330 should be not nan):\")\n",
    "print(df.iloc[13325:13335])\n",
    "\n",
    "df.to_csv(\"../Data/BBBDL_pheno_2023bbb_0twins_6traits_validation_mask\", sep = \"\\t\")"
   ]
  }
 ],
 "metadata": {
  "kernelspec": {
   "display_name": "TFE",
   "language": "python",
   "name": "python3"
  },
  "language_info": {
   "codemirror_mode": {
    "name": "ipython",
    "version": 3
   },
   "file_extension": ".py",
   "mimetype": "text/x-python",
   "name": "python",
   "nbconvert_exporter": "python",
   "pygments_lexer": "ipython3",
   "version": "3.9.20"
  }
 },
 "nbformat": 4,
 "nbformat_minor": 2
}
