{
 "cells": [
  {
   "cell_type": "code",
   "execution_count": 1,
   "metadata": {},
   "outputs": [],
   "source": [
    "import torch\n",
    "from torch import nn\n",
    "import torch.utils.data as data\n",
    "from dataset import SNPmarkersDataset\n",
    "import torch.nn.functional as F\n",
    "import wandb\n",
    "import numpy as np\n",
    "from scipy.stats import pearsonr\n",
    "from utils import format_batch"
   ]
  },
  {
   "cell_type": "code",
   "execution_count": 2,
   "metadata": {},
   "outputs": [],
   "source": [
    "class MLP(torch.nn.Module):\n",
    "    def __init__(self, nlayers: int = 1, hidden_nodes: list[int] = [], dropout: float = 0):\n",
    "        super(MLP, self).__init__()\n",
    "        \n",
    "        if dropout < 0 or dropout >= 1:\n",
    "            raise AttributeError(\"The dropout must be between 0 and 1\")\n",
    "\n",
    "        if nlayers < 1:\n",
    "            raise AttributeError(\"The number of layers must be greater or equal than one !\")\n",
    "        \n",
    "        if len(hidden_nodes) != nlayers - 1:\n",
    "            raise AttributeError(f\"Not enough hidden_nodes given, expected a list of length {nlayers - 1} but got one of {len(hidden_nodes)}\")\n",
    "\n",
    "        hidden_nodes.insert(0, 36304)\n",
    "        hidden_nodes.append(4)\n",
    "\n",
    "        self.model = nn.Sequential(*[LinearBlock(hidden_nodes[i], hidden_nodes[i + 1], dropout=dropout) for i in range(nlayers - 1)])\n",
    "        self.dropout = nn.Dropout(dropout)\n",
    "        self.output_layer = nn.Linear(hidden_nodes[-2], hidden_nodes[-1])\n",
    "\n",
    "    def forward(self, x):\n",
    "        return self.output_layer(self.dropout(self.model(x)))\n",
    "\n",
    "class LinearBlock(torch.nn.Module):\n",
    "    def __init__(self, input_size, output_size, dropout = 0):\n",
    "        super(LinearBlock, self).__init__()\n",
    "        self.dropout = nn.Dropout(dropout)\n",
    "        self.fc = nn.Linear(in_features=input_size, out_features=output_size)\n",
    "    \n",
    "    def forward(self,x):\n",
    "        return F.relu(self.fc(x))"
   ]
  },
  {
   "cell_type": "code",
   "execution_count": 3,
   "metadata": {},
   "outputs": [],
   "source": [
    "BATCH_SIZE = 4\n",
    "LEARNING_RATE = 1e-3\n",
    "DROPOUT = 0.25\n",
    "N_LAYERS = 2\n",
    "HIDDEN_NODES = [1024]\n",
    "N_EPOCHS = 1\n",
    "SCHEDULER_STEP_SIZE = 20\n",
    "SCHEDULER_REDUCE_RATIO = 0.5"
   ]
  },
  {
   "cell_type": "code",
   "execution_count": 4,
   "metadata": {},
   "outputs": [],
   "source": [
    "selected_phenotypes = [\"pheno_1\", \"pheno_2\", \"pheno_3\", \"pheno_4\"]\n",
    "train_dataset = SNPmarkersDataset(mode = \"local_train\", skip_check= True)\n",
    "train_dataset.set_phenotypes = selected_phenotypes\n",
    "train_dataset = data.DataLoader(train_dataset, batch_size=BATCH_SIZE, shuffle=True, num_workers = 4)\n",
    "\n",
    "validation_dataset = SNPmarkersDataset(mode = \"validation\", skip_check= True)\n",
    "validation_dataset.set_phenotypes = selected_phenotypes\n",
    "validation_dataset = data.DataLoader(validation_dataset, batch_size=BATCH_SIZE, num_workers = 4)"
   ]
  },
  {
   "cell_type": "code",
   "execution_count": 5,
   "metadata": {},
   "outputs": [
    {
     "name": "stdout",
     "output_type": "stream",
     "text": [
      "Model architecture : \n",
      " MLP(\n",
      "  (model): Sequential(\n",
      "    (0): LinearBlock(\n",
      "      (dropout): Dropout(p=0.25, inplace=False)\n",
      "      (fc): Linear(in_features=36304, out_features=1024, bias=True)\n",
      "    )\n",
      "  )\n",
      "  (dropout): Dropout(p=0.25, inplace=False)\n",
      "  (output_layer): Linear(in_features=1024, out_features=4, bias=True)\n",
      ")\n",
      "Numbers of parameters: 37180420\n",
      "Finished training for epoch 0. Train loss: 3.4511655488277992\n",
      "Validation step for epoch 0 finished! Validation loss: 1.7893592690664328\n"
     ]
    }
   ],
   "source": [
    "device = \"cuda\" if torch.cuda.is_available() else \"cpu\"\n",
    "torch.cuda.empty_cache()\n",
    "\n",
    "model = MLP(nlayers=N_LAYERS, hidden_nodes= HIDDEN_NODES, dropout= DROPOUT)\n",
    "print(f\"Model architecture : \\n {model}\")\n",
    "print(f\"Numbers of parameters: {sum(p.numel() for p in model.parameters())}\")\n",
    "\n",
    "optimizer = torch.optim.Adam(model.parameters(), lr=LEARNING_RATE)\n",
    "scheduler = torch.optim.lr_scheduler.StepLR(optimizer, step_size = SCHEDULER_STEP_SIZE, gamma = SCHEDULER_REDUCE_RATIO)\n",
    "criteron = torch.nn.L1Loss()\n",
    "model.to(device)\n",
    "for epoch in range(N_EPOCHS):\n",
    "    train_loss = []\n",
    "    model.train()\n",
    "    for x,y in train_dataset:\n",
    "        x,y = x.to(device), format_batch(y).to(device)\n",
    "        optimizer.zero_grad()\n",
    "        output = model(x)\n",
    "        loss = criteron(output, y)\n",
    "        train_loss.append(loss.cpu().detach())\n",
    "        loss.backward()\n",
    "        optimizer.step()\n",
    "\n",
    "    print(f\"Finished training for epoch {epoch}. Train loss: {np.array(train_loss).mean()}\")\n",
    "\n",
    "    val_loss = []\n",
    "    predicted = []\n",
    "    target = []\n",
    "    model.eval()\n",
    "    for x,y in validation_dataset:\n",
    "        x,y = x.to(device), format_batch(y).to(device)\n",
    "        optimizer.zero_grad()\n",
    "        output = model(x)\n",
    "        loss = criteron(output, y)\n",
    "        val_loss.append(loss.cpu().detach())\n",
    "        if len(predicted) == 0:\n",
    "            predicted = output.cpu().detach()\n",
    "            target = y.cpu().detach()\n",
    "        else:\n",
    "            predicted = np.concatenate((predicted, output.cpu().detach()), axis = 0)\n",
    "            target = np.concatenate((target, y.cpu().detach()), axis = 0)\n",
    "        loss.backward()\n",
    "        optimizer.step()\n",
    "    \n",
    "    scheduler.step()\n",
    "    print(f\"Validation step for epoch {epoch} finished! Validation loss: {np.array(val_loss).mean()}\")"
   ]
  }
 ],
 "metadata": {
  "kernelspec": {
   "display_name": "TFE",
   "language": "python",
   "name": "python3"
  },
  "language_info": {
   "codemirror_mode": {
    "name": "ipython",
    "version": 3
   },
   "file_extension": ".py",
   "mimetype": "text/x-python",
   "name": "python",
   "nbconvert_exporter": "python",
   "pygments_lexer": "ipython3",
   "version": "3.9.20"
  }
 },
 "nbformat": 4,
 "nbformat_minor": 2
}
